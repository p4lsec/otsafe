{
 "cells": [
  {
   "cell_type": "markdown",
   "metadata": {},
   "source": [
    "# OTsafe\n",
    "\n",
    "This is a demonstration of various use cases for OTsafe. \n",
    "\n",
    "## Demo\n",
    "\n",
    "### Concept\n",
    "\n",
    "During a recent crown jewel analysis, you decide that your next security priority is ensuring the safety of the personnel working around your equipment.  You decide that to keep people from being injured or killed by your cranes, that you'd like to explore using OTsafe to apply last-ditch safety countermeasures (BTW if you would like to test this IRL, contact me!). \n",
    "\n",
    "Think of OTsafe as an aftermarket safety system that can be built on top of new OR existing processes.  \n",
    "\n",
    "OTsafe could conceptually create an additional SIS layer.  This would not be the perfect solution, but we owe it to these brave people who put themselves in harm's way.  \n",
    "\n",
    "As with every problem, we need to distill down the key points and levers that we can control.  Inputs and outputs, that sort of thing.  \n",
    "\n",
    "You realize that in order to prevent unsafe release of the clamps, we should cross check a couple of statuses.  We know these statements to be true:\n",
    "\n",
    "- Before we unclamp the container, we should ensure we don't have tension on the line.  \n",
    "- We also shouldn't be in motion. \n",
    "\n",
    "While we'e poking around, let's keep out eye open for more safety detection opportunities! \n",
    "\n",
    "### Background\n",
    "\n",
    "Situation (true backstory but some details were changed):  \n",
    "\n",
    "You run the OT cybersecurity program for a shipping port  company in Tampa.  Your company owns cargo ship docks and a several cranes, which they use to unload 20-foot and 40-foot shipping containers.  \n",
    "\n",
    "A while back, someone in the parking lot joined the corporate Wi-Fi. Due to the flat network structure, the attacker was able to monitor the control system network traffic.  \n",
    "\n",
    "The attacker eventually transmitted a specific Modbus packet which caused the crane's container clamp to open.  The contained dropped to the ground, the contents destroyed.  Luckily, no one was hurt!  Close call. \n",
    "\n",
    "On the bright side... you now have a budget!\n",
    "\n",
    "\n",
    "### Capabilities\n",
    "\n",
    "The following concepts will be demonstrated:\n",
    "\n",
    "- Creation of individual components in OTsafe\n",
    "- Establishing nominal, alarm, safe, and failure levels\n",
    "- Modeling the relationship between multiple components\n",
    "- Connect to network, PCAPs, historian, etc. \n",
    "- Simulate an industrial process w/ control loop\n",
    "- Digital Lock Out Tag Out\n",
    "- Demonstrate nominal operations\n",
    "- Demonstrate safety detection engineering:\n",
    "  - Simulate equipment failure\n",
    "  - Simulate attacker in the network\n",
    "  - Simulate supply chain attack\n",
    "  - Automation (QA test and retroanalyze at the click of a button)\n",
    "- Automation Hub:\n",
    "  - Load inventory\n",
    "  - Manage PCAP inventory\n",
    "- Malware analysis (reconstructing intrusions)\n",
    "- Audit Friendly\n",
    "- Don't have to rely on or interpret ladder logic to understand safety mitigations\n",
    "- Ties into SBOM, engineering, modeling, and safety disciplines\n",
    "- Build encrypted tunnel on top of existing network traffic\n",
    "\n",
    "\n",
    "## Control Loop Compromise and Detection\n",
    "\n",
    "### About\n",
    "\n",
    "\"Control Loop Compromise\" refers to the accidental or malicious influence of one or more components of a control loop, within a control system context.\n",
    "\n",
    "This type of incident is not necessarily malicious.  A faulty valve is many more time more likely to cause an impact on the control loop.  \n",
    "\n",
    "A more appropriat term could _almost_ be \"integrity attack\".   However, since control loop compromises could be accidental in nature, or due to equipment failure, this term is not 100% accurate.  Hence, \"control loop compromise\".  Propose a better name and let's talk about it!  \n"
   ]
  },
  {
   "cell_type": "markdown",
   "metadata": {},
   "source": [
    "### Imports and Object Creation"
   ]
  },
  {
   "cell_type": "code",
   "execution_count": null,
   "metadata": {},
   "outputs": [],
   "source": [
    "import pyshark\n",
    "\n",
    "from otsafe.components.actuators import Actuator\n",
    "from otsafe.components.sensors import Sensor\n",
    "from otsafe.components.alarms import Alarm\n",
    "\n",
    "\n",
    "cl_60 = Actuator(\n",
    "    name = \"Automatic clamp\",\n",
    "    description = \"Clamp set used to securely grab a shipping container\",\n",
    "    id = \"cl_60\",\n",
    "    status = \"Open\"\n",
    ")\n",
    "\n",
    "ls_12 = Sensor(\n",
    "    name = \"Load Sensor\",\n",
    "    description = \"Crane Load Sensor reports the weight of the container\",\n",
    "    id = \"ls_12\",\n",
    "    value = 0,\n",
    "    units = \"LBS\"\n",
    ")"
   ]
  },
  {
   "cell_type": "markdown",
   "metadata": {},
   "source": [
    "So now we have two objects.  An Actuator (the clamp system), and the load sensor (measuring the weight of the load.)\n",
    "\n",
    "I think you can see where this is going! "
   ]
  },
  {
   "cell_type": "code",
   "execution_count": null,
   "metadata": {},
   "outputs": [],
   "source": [
    "# Listen on local interface for Modbus packets\n",
    "\n",
    "cap = pyshark.LiveCapture(interface='eth0')\n",
    "\n",
    "for packet in cap.sniff_continuously(packet_count=5):\n",
    "\n",
    "    # If the clamp is open and the load sensor is reporting a load, raise an alarm\n",
    "    if cl_60.status == \"Open\" and ls_12.value > 0:\n",
    "        cl_60.alarms.append(\n",
    "            Alarm(\n",
    "                name = \"Load Detected\",\n",
    "                description = \"Actuator opened while load detected\",\n",
    "                id = \"ls_12\",\n",
    "                status = \"Active\"\n",
    "          )\n",
    "      )"
   ]
  },
  {
   "cell_type": "markdown",
   "metadata": {},
   "source": [
    "This Alarm object that was created can be used to kick off curther automation.  We could use the included Redis image to build a subscriber who processes Alarm objects.  Or otherwise extend it yourself! \n",
    "\n"
   ]
  },
  {
   "cell_type": "markdown",
   "metadata": {},
   "source": [
    "# Future\n",
    "\n",
    "Future possible use cases that OTsafe can support\n",
    "\n",
    "- We could install additional hardware as time and budget allow, and continue to build safety detections based off of sensor data. "
   ]
  }
 ],
 "metadata": {
  "language_info": {
   "name": "python"
  },
  "orig_nbformat": 4
 },
 "nbformat": 4,
 "nbformat_minor": 2
}
