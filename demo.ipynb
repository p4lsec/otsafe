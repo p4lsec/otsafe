{
 "cells": [
  {
   "cell_type": "markdown",
   "metadata": {},
   "source": [
    "# OTsafe Jupyter Notebook Demo\n",
    "\n",
    "This Jupyter notebook will demonstrate various use cases for OTsafe, an aftermarket safety/security system designed to enhance the safety of operational technology (OT) environments.\n",
    "\n",
    "## Background\n",
    "\n",
    "This demonstration is based on a real-life incident at a marine port company in Florida. The company, which operates several cargo ship docks and large cranes for loading and unloading 20-foot and 40-foot shipping containers, experienced a significant security breach.\n",
    "\n",
    "An attacker managed to join the corporate Wi-Fi network from the parking lot and due to the flat network structure, they were able to monitor the control system network traffic for the cranes in real-time. The attacker eventually transmitted a crafted Modbus packet which caused the crane's container clamp to open while it was lifting and moving a container. As a result, the container fell to the ground, causing its contents to be destroyed. Fortunately, no personnel were injured in this incident."
   ]
  },
  {
   "cell_type": "markdown",
   "metadata": {},
   "source": [
    "## Control Loop Compromise\n",
    "\n",
    "The term \"Control Loop Compromise\" refers to the accidental or malicious influence of one or more components of a control loop within a control system context. It is important to note that these incidents are not always malicious in nature. In fact, mechanical failures, such as a faulty valve, are often more likely to impact the control loop than a malicious attack.\n",
    "\n",
    "Control loop compromises can also include accidental events. Hence, it may not be completely accurate to refer to all such incidents as \"integrity attacks.\" In this context, a control loop compromise could be considered a tactic, with an integrity attack being one of several possible techniques."
   ]
  },
  {
   "cell_type": "markdown",
   "metadata": {},
   "source": [
    "## OTsafe: An Aftermarket Safety/Security System\n",
    "\n",
    "OTsafe serves as an additional layer of security and safety over existing control systems, providing enhanced monitoring and protection against various risks, including:\n",
    "\n",
    "- Physical equipment failure\n",
    "- Operator error\n",
    "- Malicious attacks\n",
    "- Upstream failure modes\n",
    "- Supply chain attacks\n",
    "\n",
    "Through real-time data integration from disparate sources, OTsafe brings to life system models, enabling the visualization and monitoring of various system states and detections of unsafe, suspicious, or anomalous conditions, regardless of their cause or intent.\n"
   ]
  },
  {
   "cell_type": "markdown",
   "metadata": {},
   "source": [
    "## The Application: Preventing Unsafe Release of Clamps\n",
    "\n",
    "In our scenario, we can prevent unsafe clamp releases by cross-checking a few statuses. We can agree that the following conditions must be met before unclamping a container:\n",
    "\n",
    "- There should be no tension on the line.  \n",
    "- The crane should not be in motion. \n",
    "\n",
    "In the following sections, we'll build a representation of this control loop and demonstrate different use cases for OTsafe."
   ]
  },
  {
   "cell_type": "markdown",
   "metadata": {},
   "source": [
    "## Capabilities to be Demonstrated\n",
    "\n",
    "Through this demo, we will cover the following concepts:\n",
    "\n",
    "- Creation of individual components in OTsafe\n",
    "- Establishing nominal, alarm, safe, and failure levels\n",
    "- Modeling the relationship between multiple components\n",
    "- Connecting to network, PCAPs, historian, etc. \n",
    "- Simulating an industrial process with a control loop\n",
    "- Implementing digital lock-out, tag-out\n",
    "- Demonstrating nominal operations\n",
    "- Demonstrating safety detection engineering"
   ]
  },
  {
   "cell_type": "markdown",
   "metadata": {},
   "source": [
    "## Setting up the Demo\n",
    "\n",
    "In the following steps, we will create a simple model of a crane using OTsafe. This model includes individual components such as sensors and an actuator, as well as a higher-level Crane object that combines these components, and allows to easily and simply reference attributes. This will provide an understanding of how OTsafe can be used to model and monitor real-world industrial systems.\n",
    "\n",
    "If you have not already, please follow the install instructions. You should be in a virutal environment right now. "
   ]
  },
  {
   "cell_type": "markdown",
   "metadata": {},
   "source": [
    "## Modeling the Components\n",
    "\n",
    "First, let's create the individual components of our system, which includes an actuator (the clamp), and two sensors (load cell and speed sensor). This demonstrates the concept of creating individual components in OTsafe.\n"
   ]
  },
  {
   "cell_type": "code",
   "execution_count": 1,
   "metadata": {},
   "outputs": [],
   "source": [
    "import random\n",
    "\n",
    "import pyshark\n",
    "\n",
    "from otsafe.components.actuators import Actuator\n",
    "from otsafe.components.sensors import Sensor\n",
    "from otsafe.components.alarms import Alarm\n",
    "from otsafe.utils.auth import AsymmetricAuth\n",
    "\n",
    "clamp = Actuator(\n",
    "    name = \"Automatic clamp\",\n",
    "    description = \"Clamp set used to securely grab a shipping container\",\n",
    "    id = \"cl_1\",\n",
    "    status = \"Open\"\n",
    ")\n",
    "\n",
    "load_cell = Sensor(\n",
    "    name = \"Load Cell\",\n",
    "    description = \"Crane Load Cell that reports the weight of the container\",\n",
    "    id = \"ls_1\",\n",
    "    value = 0,\n",
    "    units = \"LBS\",\n",
    "    safe_range = range(0, 60000)\n",
    ")\n",
    "\n",
    "speed_sensor = Sensor(\n",
    "    name = \"Speed Sensor\",\n",
    "    description = \"Determines if the crane is moving certain components\",\n",
    "    id = \"ss_1\",\n",
    "    value = 0,\n",
    "    units = \"FPS\"\n",
    ")"
   ]
  },
  {
   "cell_type": "markdown",
   "metadata": {},
   "source": [
    "The code above has created three objects - an Actuator and two Sensors. These objects represent the crucial components in the control system we're modeling. The Actuator (clamp) grabs or releases the container. The Load Sensor reports the weight of the container, and the Speed Sensor checks if the crane is moving certain components. These components represent abstractions - the Speed Sensor could be theorteically be represented as a boolean, when in reality it is a single entity that is populated by a combinations of various other sensors and states. "
   ]
  },
  {
   "cell_type": "code",
   "execution_count": 2,
   "metadata": {},
   "outputs": [],
   "source": [
    "class Crane:\n",
    "    def __init__(self, clamp: Actuator, load_cell: Sensor, speed_sensor: Sensor):\n",
    "        self.clamp = clamp\n",
    "        self.load_cell = load_cell\n",
    "        self.speed_sensor = speed_sensor\n",
    "\n",
    "        # Set the range of values for the sensors. Ideally this would be queried via remote db\n",
    "        self.clamp_statuses = [\"Closed\", \"Open\"]\n",
    "        self.load_cell.value_range = range(0, 100)\n",
    "        self.load_cell.speed_sensor = range(0, 999)\n",
    "\n",
    "\n",
    "    def run(self):\n",
    "        # For demo purposes, we will return a random value for the load cell and speed sensor\n",
    "        self.clamp.status = random.choice(self.clamp_statuses)\n",
    "        self.load_cell.value = random.choice(self.load_cell.value_range)\t\n",
    "        self.speed_sensor.value = random.choice(self.load_cell.speed_sensor)"
   ]
  },
  {
   "cell_type": "markdown",
   "metadata": {},
   "source": [
    "In the code snippet above, we have defined a higher-level object, Crane. The Crane object comprises our previously defined components: the clamp, load_cell, and speed_sensor. This represents the concept of *modeling the relationship between multiple components* in OTsafe."
   ]
  },
  {
   "cell_type": "code",
   "execution_count": 3,
   "metadata": {},
   "outputs": [
    {
     "name": "stdout",
     "output_type": "stream",
     "text": [
      "Open\n",
      "0\n"
     ]
    }
   ],
   "source": [
    "crane = Crane(clamp, load_cell, speed_sensor)\n",
    "\n",
    "print(crane.clamp.status)\n",
    "print(crane.load_cell.value)"
   ]
  },
  {
   "cell_type": "markdown",
   "metadata": {},
   "source": [
    "In the above cell, we have created an instance of our Crane object. We can access the attributes of the components that make up our crane, like the status of the clamp and the current value reported by the load cell. This will prove useful when we need to cross-reference various attributes of the crane later in the process. Let's run this crane simulation:"
   ]
  },
  {
   "cell_type": "code",
   "execution_count": 4,
   "metadata": {},
   "outputs": [
    {
     "name": "stdout",
     "output_type": "stream",
     "text": [
      "Closed\n",
      "38\n",
      "940\n"
     ]
    }
   ],
   "source": [
    "crane.run()\n",
    "\n",
    "print(crane.clamp.status)\n",
    "print(crane.load_cell.value)\n",
    "print(crane.speed_sensor.value)"
   ]
  },
  {
   "cell_type": "markdown",
   "metadata": {},
   "source": [
    "If we want to connect this process to a control network, you can supply either a PCAP or local network interface. In the below example, you can load a PCAP from a local directory.  Run the below cell! "
   ]
  },
  {
   "cell_type": "code",
   "execution_count": 5,
   "metadata": {},
   "outputs": [
    {
     "name": "stdout",
     "output_type": "stream",
     "text": [
      "Closed\n",
      "38\n"
     ]
    }
   ],
   "source": [
    "crane = Crane(clamp, load_cell, speed_sensor)\n",
    "\n",
    "print(crane.clamp.status)\n",
    "print(crane.load_cell.value)"
   ]
  },
  {
   "cell_type": "code",
   "execution_count": 6,
   "metadata": {},
   "outputs": [
    {
     "name": "stdout",
     "output_type": "stream",
     "text": [
      "Processed 118 packets\n"
     ]
    }
   ],
   "source": [
    "# Load a local PCAP file\n",
    "\n",
    "cap = pyshark.FileCapture('modbus_test_data_part1.pcap')\n",
    "\n",
    "# Due to a quirk with Jupyter and pyshark, we have to use the following async syntax to iterate over the packets\n",
    "packets = []\n",
    "\n",
    "def append_pkt(pkt):\n",
    "    packets.append(pkt)\n",
    "\n",
    "await cap.packets_from_tshark(append_pkt)\n",
    "\n",
    "print(f\"Processed {len(packets)} packets\")\n",
    "\n",
    "# TODO: Finish this demo. \n"
   ]
  },
  {
   "cell_type": "markdown",
   "metadata": {},
   "source": [
    "## Demonstrate unsafe conditions\n",
    "\n",
    "Because no crafted PCAP files could be easily generated for this demo, we will manually set the value of various attributes, as needed throughout the demo. "
   ]
  },
  {
   "cell_type": "markdown",
   "metadata": {},
   "source": [
    "## Digital Lock-Out Tag-Out\n",
    "\n",
    "Lockout-Tagout (LOTO) is a safety procedure used to ensure that dangerous machines are properly shut off and not restarted before maintenance and service work is completed. In the context of OTsafe, a digital lock-out, tag-out system can be implemented to ensure safe operational status during crucial events, such as maintenance, anomaly detection, or emergency stops.\n",
    "\n",
    "In this example, we will implement a digital LOTO system that will prevent the crane from operating under certain conditions.\n",
    "\n",
    "OTsafe provides a library, `otsafe.auth`, to handle authentication and authorization in OTsafe models. This essentially wraps asymmetric, private key cryptography. The idea is that an auditable event is created, logging the authorized parties who took part in the process. "
   ]
  },
  {
   "cell_type": "code",
   "execution_count": 7,
   "metadata": {},
   "outputs": [
    {
     "name": "stdout",
     "output_type": "stream",
     "text": [
      "False\n",
      "Lockout-Tagout activated. The system is locked out and ready for maintenance.\n",
      "True\n",
      "Lockout-Tagout deactivated. The system is unlocked and ready for operation.\n",
      "False\n"
     ]
    }
   ],
   "source": [
    "class LOTO:\n",
    "    def __init__(self, auth):\n",
    "        self.loto_status = False\n",
    "        self.auth = auth\n",
    "\n",
    "    def set_loto(self, state, signature, message):\n",
    "        # if self.auth.authenticate(signature, message):\n",
    "        # patched instructions for demo only, to avoid PKI setup\n",
    "        if True:\n",
    "            self.loto_status = state\n",
    "            if state:\n",
    "                print(\"Lockout-Tagout activated. The system is locked out and ready for maintenance.\")\n",
    "            else:\n",
    "                print(\"Lockout-Tagout deactivated. The system is unlocked and ready for operation.\")\n",
    "\n",
    "# Load or generate your private key here\n",
    "private_key = ...\n",
    "public_key = ...\n",
    "\n",
    "# Initialize our LOTO system with our crane and auth object\n",
    "auth = AsymmetricAuth(public_key)\n",
    "loto = LOTO(auth)\n",
    "\n",
    "# Signature and message being sent and authenticated\n",
    "signature = ...\n",
    "message = ...\n",
    "\n",
    "print(loto.loto_status)\n",
    "loto.set_loto(True, signature, message)\n",
    "print(loto.loto_status)\n",
    "loto.set_loto(False, signature, message)\n",
    "print(loto.loto_status)\n",
    "\n"
   ]
  },
  {
   "cell_type": "markdown",
   "metadata": {},
   "source": [
    "# Safety Detection Engineering: Simulating Equipment Failure\n",
    "\n",
    "In this part of the demo, we'll simulate an equipment failure to demonstrate how OTsafe can be used to detect such issues.\n",
    "\n",
    "When dealing with industrial equipment, it's not uncommon to encounter occasional equipment failures. These can happen due to a variety of reasons, ranging from mechanical faults to environmental factors.\n",
    "\n",
    "In this simulation, we'll simulate a fault with our crane's load cell sensor. This sensor measures the weight of the load that the crane is carrying.\n",
    "\n",
    "Now, suppose this load cell starts malfunctioning and suddenly reports a weight that's way above what a typical shipping container would weigh - let's say, 1,000,000 LBS. \n",
    "\n",
    "This kind of erroneous data could cause all sorts of issues in the real world, from incorrect operational decisions to safety hazards. With OTsafe, however, we can detect such anomalies and respond appropriately."
   ]
  },
  {
   "cell_type": "code",
   "execution_count": 8,
   "metadata": {},
   "outputs": [
    {
     "name": "stdout",
     "output_type": "stream",
     "text": [
      "True\n",
      "4000000\n",
      "False\n",
      "50000\n"
     ]
    }
   ],
   "source": [
    "# Now let's create a function in our Crane class that checks if the weight reported by the load cell is within the expected range.\n",
    "\n",
    "class Crane:\n",
    "    def __init__(self, clamp: Actuator, load_cell: Sensor, speed_sensor: Sensor):\n",
    "        self.clamp = clamp\n",
    "        self.load_cell = load_cell\n",
    "        self.speed_sensor = speed_sensor\n",
    "\n",
    "        # Set the range of values for the sensors. Ideally this would be queried via remote db\n",
    "        self.clamp_statuses = [\"Closed\", \"Open\"]\n",
    "        self.load_cell.value_range = range(0, 100)\n",
    "        self.load_cell.speed_sensor = range(0, 999)\n",
    "\n",
    "    def check_overweight(self):\n",
    "        if self.load_cell.value in self.load_cell.safe_range:\n",
    "            return False\n",
    "        else:\n",
    "            return True\n",
    "\n",
    "crane = Crane(clamp, load_cell, speed_sensor)\n",
    "\n",
    "crane.load_cell.value = 4000000\n",
    "print(crane.check_overweight())\n",
    "print(crane.load_cell.value)\n",
    "\n",
    "crane.load_cell.value = 50000\n",
    "print(crane.check_overweight())\n",
    "print(crane.load_cell.value)"
   ]
  }
 ],
 "metadata": {
  "kernelspec": {
   "display_name": ".venv",
   "language": "python",
   "name": "python3"
  },
  "language_info": {
   "codemirror_mode": {
    "name": "ipython",
    "version": 3
   },
   "file_extension": ".py",
   "mimetype": "text/x-python",
   "name": "python",
   "nbconvert_exporter": "python",
   "pygments_lexer": "ipython3",
   "version": "3.11.2"
  },
  "orig_nbformat": 4
 },
 "nbformat": 4,
 "nbformat_minor": 2
}
